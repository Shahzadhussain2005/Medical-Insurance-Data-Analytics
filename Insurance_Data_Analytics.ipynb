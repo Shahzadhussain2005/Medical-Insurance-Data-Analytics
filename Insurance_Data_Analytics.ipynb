{
 "cells": [
  {
   "cell_type": "markdown",
   "id": "9f2f223e-3dff-4eec-bc7c-bc41d4c1e708",
   "metadata": {},
   "source": [
    "IMPORT LIBRARUES"
   ]
  },
  {
   "cell_type": "code",
   "execution_count": 78,
   "id": "27480f5b-22b9-4f01-a0c3-863efe7b9d2a",
   "metadata": {},
   "outputs": [],
   "source": [
    "import numpy as np\n",
    "import pandas as pd\n",
    "import matplotlib.pyplot as plt\n",
    "import seaborn as sns\n",
    "from sklearn.linear_model import LinearRegression\n",
    "from sklearn.preprocessing import StandardScaler\n",
    "from sklearn.pipeline import Pipeline\n",
    "from sklearn.preprocessing import PolynomialFeatures\n",
    "from sklearn.metrics import r2_score\n",
    "from sklearn.model_selection import train_test_split\n",
    "from sklearn.linear_model import Ridge\n"
   ]
  },
  {
   "cell_type": "markdown",
   "id": "e65f8820-9fce-487a-8643-7cf0863fd1e1",
   "metadata": {},
   "source": [
    "IMPORT DATASET"
   ]
  },
  {
   "cell_type": "code",
   "execution_count": 29,
   "id": "21280cc0-a037-4bea-b922-75a6710c4eaa",
   "metadata": {},
   "outputs": [],
   "source": [
    "filepath = 'https://cf-courses-data.s3.us.cloud-object-storage.appdomain.cloud/IBMDeveloperSkillsNetwork-DA0101EN-Coursera/medical_insurance_dataset.csv'"
   ]
  },
  {
   "cell_type": "code",
   "execution_count": 30,
   "id": "dcea46e7-edc6-4d6a-b2f8-0abec5020cb0",
   "metadata": {},
   "outputs": [],
   "source": [
    "download(filepath,\"insurance.csv\");"
   ]
  },
  {
   "cell_type": "code",
   "execution_count": null,
   "id": "908a4d96-56fb-4776-bed1-44ed9b9f1091",
   "metadata": {},
   "outputs": [],
   "source": [
    "file_name = \"insurance.csv\""
   ]
  },
  {
   "cell_type": "code",
   "execution_count": 32,
   "id": "41f8fa20-a883-4fcb-bcdd-816d17105786",
   "metadata": {},
   "outputs": [
    {
     "data": {
      "text/html": [
       "<div>\n",
       "<style scoped>\n",
       "    .dataframe tbody tr th:only-of-type {\n",
       "        vertical-align: middle;\n",
       "    }\n",
       "\n",
       "    .dataframe tbody tr th {\n",
       "        vertical-align: top;\n",
       "    }\n",
       "\n",
       "    .dataframe thead th {\n",
       "        text-align: right;\n",
       "    }\n",
       "</style>\n",
       "<table border=\"1\" class=\"dataframe\">\n",
       "  <thead>\n",
       "    <tr style=\"text-align: right;\">\n",
       "      <th></th>\n",
       "      <th>19</th>\n",
       "      <th>1</th>\n",
       "      <th>27.9</th>\n",
       "      <th>0</th>\n",
       "      <th>1.1</th>\n",
       "      <th>3</th>\n",
       "      <th>16884.924</th>\n",
       "    </tr>\n",
       "  </thead>\n",
       "  <tbody>\n",
       "    <tr>\n",
       "      <th>0</th>\n",
       "      <td>18</td>\n",
       "      <td>2</td>\n",
       "      <td>33.770</td>\n",
       "      <td>1</td>\n",
       "      <td>0</td>\n",
       "      <td>4</td>\n",
       "      <td>1725.55230</td>\n",
       "    </tr>\n",
       "    <tr>\n",
       "      <th>1</th>\n",
       "      <td>28</td>\n",
       "      <td>2</td>\n",
       "      <td>33.000</td>\n",
       "      <td>3</td>\n",
       "      <td>0</td>\n",
       "      <td>4</td>\n",
       "      <td>4449.46200</td>\n",
       "    </tr>\n",
       "    <tr>\n",
       "      <th>2</th>\n",
       "      <td>33</td>\n",
       "      <td>2</td>\n",
       "      <td>22.705</td>\n",
       "      <td>0</td>\n",
       "      <td>0</td>\n",
       "      <td>1</td>\n",
       "      <td>21984.47061</td>\n",
       "    </tr>\n",
       "    <tr>\n",
       "      <th>3</th>\n",
       "      <td>32</td>\n",
       "      <td>2</td>\n",
       "      <td>28.880</td>\n",
       "      <td>0</td>\n",
       "      <td>0</td>\n",
       "      <td>1</td>\n",
       "      <td>3866.85520</td>\n",
       "    </tr>\n",
       "    <tr>\n",
       "      <th>4</th>\n",
       "      <td>31</td>\n",
       "      <td>1</td>\n",
       "      <td>25.740</td>\n",
       "      <td>0</td>\n",
       "      <td>?</td>\n",
       "      <td>4</td>\n",
       "      <td>3756.62160</td>\n",
       "    </tr>\n",
       "    <tr>\n",
       "      <th>...</th>\n",
       "      <td>...</td>\n",
       "      <td>...</td>\n",
       "      <td>...</td>\n",
       "      <td>...</td>\n",
       "      <td>...</td>\n",
       "      <td>...</td>\n",
       "      <td>...</td>\n",
       "    </tr>\n",
       "    <tr>\n",
       "      <th>2766</th>\n",
       "      <td>47</td>\n",
       "      <td>1</td>\n",
       "      <td>45.320</td>\n",
       "      <td>1</td>\n",
       "      <td>0</td>\n",
       "      <td>4</td>\n",
       "      <td>8569.86180</td>\n",
       "    </tr>\n",
       "    <tr>\n",
       "      <th>2767</th>\n",
       "      <td>21</td>\n",
       "      <td>1</td>\n",
       "      <td>34.600</td>\n",
       "      <td>0</td>\n",
       "      <td>0</td>\n",
       "      <td>3</td>\n",
       "      <td>2020.17700</td>\n",
       "    </tr>\n",
       "    <tr>\n",
       "      <th>2768</th>\n",
       "      <td>19</td>\n",
       "      <td>2</td>\n",
       "      <td>26.030</td>\n",
       "      <td>1</td>\n",
       "      <td>1</td>\n",
       "      <td>1</td>\n",
       "      <td>16450.89470</td>\n",
       "    </tr>\n",
       "    <tr>\n",
       "      <th>2769</th>\n",
       "      <td>23</td>\n",
       "      <td>2</td>\n",
       "      <td>18.715</td>\n",
       "      <td>0</td>\n",
       "      <td>0</td>\n",
       "      <td>1</td>\n",
       "      <td>21595.38229</td>\n",
       "    </tr>\n",
       "    <tr>\n",
       "      <th>2770</th>\n",
       "      <td>54</td>\n",
       "      <td>2</td>\n",
       "      <td>31.600</td>\n",
       "      <td>0</td>\n",
       "      <td>0</td>\n",
       "      <td>3</td>\n",
       "      <td>9850.43200</td>\n",
       "    </tr>\n",
       "  </tbody>\n",
       "</table>\n",
       "<p>2771 rows × 7 columns</p>\n",
       "</div>"
      ],
      "text/plain": [
       "      19  1    27.9  0 1.1  3    16884.924\n",
       "0     18  2  33.770  1   0  4   1725.55230\n",
       "1     28  2  33.000  3   0  4   4449.46200\n",
       "2     33  2  22.705  0   0  1  21984.47061\n",
       "3     32  2  28.880  0   0  1   3866.85520\n",
       "4     31  1  25.740  0   ?  4   3756.62160\n",
       "...   .. ..     ... ..  .. ..          ...\n",
       "2766  47  1  45.320  1   0  4   8569.86180\n",
       "2767  21  1  34.600  0   0  3   2020.17700\n",
       "2768  19  2  26.030  1   1  1  16450.89470\n",
       "2769  23  2  18.715  0   0  1  21595.38229\n",
       "2770  54  2  31.600  0   0  3   9850.43200\n",
       "\n",
       "[2771 rows x 7 columns]"
      ]
     },
     "execution_count": 32,
     "metadata": {},
     "output_type": "execute_result"
    }
   ],
   "source": [
    "df = pd.read_csv(file_name)   #reading from csv\n"
   ]
  },
  {
   "cell_type": "code",
   "execution_count": 51,
   "id": "a9653087-60de-4eab-96e6-bf6b41207bbf",
   "metadata": {},
   "outputs": [
    {
     "data": {
      "text/html": [
       "<div>\n",
       "<style scoped>\n",
       "    .dataframe tbody tr th:only-of-type {\n",
       "        vertical-align: middle;\n",
       "    }\n",
       "\n",
       "    .dataframe tbody tr th {\n",
       "        vertical-align: top;\n",
       "    }\n",
       "\n",
       "    .dataframe thead th {\n",
       "        text-align: right;\n",
       "    }\n",
       "</style>\n",
       "<table border=\"1\" class=\"dataframe\">\n",
       "  <thead>\n",
       "    <tr style=\"text-align: right;\">\n",
       "      <th></th>\n",
       "      <th>age</th>\n",
       "      <th>gender</th>\n",
       "      <th>bmi</th>\n",
       "      <th>no_of_children</th>\n",
       "      <th>smoker</th>\n",
       "      <th>region</th>\n",
       "      <th>charges</th>\n",
       "    </tr>\n",
       "  </thead>\n",
       "  <tbody>\n",
       "    <tr>\n",
       "      <th>0</th>\n",
       "      <td>18</td>\n",
       "      <td>2</td>\n",
       "      <td>33.77</td>\n",
       "      <td>1</td>\n",
       "      <td>0</td>\n",
       "      <td>4</td>\n",
       "      <td>1725.55230</td>\n",
       "    </tr>\n",
       "    <tr>\n",
       "      <th>1</th>\n",
       "      <td>28</td>\n",
       "      <td>2</td>\n",
       "      <td>33.00</td>\n",
       "      <td>3</td>\n",
       "      <td>0</td>\n",
       "      <td>4</td>\n",
       "      <td>4449.46200</td>\n",
       "    </tr>\n",
       "    <tr>\n",
       "      <th>2</th>\n",
       "      <td>33</td>\n",
       "      <td>2</td>\n",
       "      <td>22.70</td>\n",
       "      <td>0</td>\n",
       "      <td>0</td>\n",
       "      <td>1</td>\n",
       "      <td>21984.47061</td>\n",
       "    </tr>\n",
       "    <tr>\n",
       "      <th>3</th>\n",
       "      <td>32</td>\n",
       "      <td>2</td>\n",
       "      <td>28.88</td>\n",
       "      <td>0</td>\n",
       "      <td>0</td>\n",
       "      <td>1</td>\n",
       "      <td>3866.85520</td>\n",
       "    </tr>\n",
       "    <tr>\n",
       "      <th>4</th>\n",
       "      <td>31</td>\n",
       "      <td>1</td>\n",
       "      <td>25.74</td>\n",
       "      <td>0</td>\n",
       "      <td>NaN</td>\n",
       "      <td>4</td>\n",
       "      <td>3756.62160</td>\n",
       "    </tr>\n",
       "  </tbody>\n",
       "</table>\n",
       "</div>"
      ],
      "text/plain": [
       "   age  gender    bmi  no_of_children smoker  region      charges\n",
       "0   18       2  33.77               1      0       4   1725.55230\n",
       "1   28       2  33.00               3      0       4   4449.46200\n",
       "2   33       2  22.70               0      0       1  21984.47061\n",
       "3   32       2  28.88               0      0       1   3866.85520\n",
       "4   31       1  25.74               0    NaN       4   3756.62160"
      ]
     },
     "execution_count": 51,
     "metadata": {},
     "output_type": "execute_result"
    }
   ],
   "source": [
    "headers = [\"age\",\"gender\",\"bmi\",\"no_of_children\",\"smoker\",\"region\",\"charges\"]\n",
    "df.columns = headers;\n",
    "df.head()"
   ]
  },
  {
   "cell_type": "code",
   "execution_count": 41,
   "id": "71a4dfb5-88cc-4cc8-a9da-781ffadf2810",
   "metadata": {},
   "outputs": [],
   "source": [
    "df.replace(\"?\",np.nan, inplace= True);\n"
   ]
  },
  {
   "cell_type": "markdown",
   "id": "14590c77-e860-4caf-baa7-5d4687a15221",
   "metadata": {},
   "source": [
    "DATA WRANGLING"
   ]
  },
  {
   "cell_type": "code",
   "execution_count": 42,
   "id": "5391f9d0-c54f-45bf-b828-5a09d16e3efd",
   "metadata": {},
   "outputs": [
    {
     "name": "stdout",
     "output_type": "stream",
     "text": [
      "<class 'pandas.core.frame.DataFrame'>\n",
      "RangeIndex: 2771 entries, 0 to 2770\n",
      "Data columns (total 7 columns):\n",
      " #   Column          Non-Null Count  Dtype  \n",
      "---  ------          --------------  -----  \n",
      " 0   age             2767 non-null   object \n",
      " 1   no_of_children  2771 non-null   int64  \n",
      " 2   charges         2771 non-null   float64\n",
      " 3   region          2771 non-null   int64  \n",
      " 4   bmi             2764 non-null   object \n",
      " 5   smoker          2771 non-null   int64  \n",
      " 6   gender          2771 non-null   float64\n",
      "dtypes: float64(2), int64(3), object(2)\n",
      "memory usage: 151.7+ KB\n"
     ]
    }
   ],
   "source": [
    "df.info()"
   ]
  },
  {
   "cell_type": "code",
   "execution_count": 65,
   "id": "3da030f8-ff8f-4fd8-a12e-357a4b00a10f",
   "metadata": {},
   "outputs": [
    {
     "name": "stdout",
     "output_type": "stream",
     "text": [
      "<class 'pandas.core.frame.DataFrame'>\n",
      "RangeIndex: 2771 entries, 0 to 2770\n",
      "Data columns (total 7 columns):\n",
      " #   Column          Non-Null Count  Dtype  \n",
      "---  ------          --------------  -----  \n",
      " 0   age             2771 non-null   int64  \n",
      " 1   gender          2771 non-null   int64  \n",
      " 2   bmi             2771 non-null   float64\n",
      " 3   no_of_children  2771 non-null   int64  \n",
      " 4   smoker          2771 non-null   int64  \n",
      " 5   region          2771 non-null   int64  \n",
      " 6   charges         2771 non-null   float64\n",
      "dtypes: float64(2), int64(5)\n",
      "memory usage: 151.7 KB\n"
     ]
    }
   ],
   "source": [
    "#handling missing Data\n",
    "\n",
    "#as smoker is categorical attribute so we replace it with most frequent entry\n",
    "is_smoker = df[\"smoker\"].value_counts().idxmax();\n",
    "df[\"smoker\"]=df[\"smoker\"].replace(np.nan,is_smoker);\n",
    "#filling missing age values with mean\n",
    "mean_age=df[\"age\"].astype(\"float\").mean(axis=0);\n",
    "df[\"age\"]=df[\"age\"].replace(np.nan,mean_age);\n",
    "\n",
    "#updating the data type of both columns\n",
    "z= [\"age\",\"smoker\"];\n",
    "df[z]=df[z].astype(\"int\");\n",
    "\n",
    "#verify missing elements are filled\n",
    "df.info()"
   ]
  },
  {
   "cell_type": "code",
   "execution_count": 53,
   "id": "3d51efff-e54f-4e33-9f77-e1e1fe758a9b",
   "metadata": {},
   "outputs": [],
   "source": [
    "#rounding the charges value to 2 decimal places\n",
    "df[[\"charges\"]]=  np.round(df[[\"charges\"]],2)\n"
   ]
  },
  {
   "cell_type": "markdown",
   "id": "c000ac46-ea65-401e-b415-d14493308562",
   "metadata": {},
   "source": [
    "EXPLORATROY DATA ANALYSIS(EDA)"
   ]
  },
  {
   "cell_type": "code",
   "execution_count": 57,
   "id": "fc767dc8-a491-462d-af73-6d862ea08acc",
   "metadata": {},
   "outputs": [
    {
     "data": {
      "text/plain": [
       "(0.0, 66902.85800000001)"
      ]
     },
     "execution_count": 57,
     "metadata": {},
     "output_type": "execute_result"
    },
    {
     "data": {
      "image/png": "[encoded data removed]",
      "text/plain": [
       "<Figure size 640x480 with 1 Axes>"
      ]
     },
     "metadata": {},
     "output_type": "display_data"
    }
   ],
   "source": [
    "#regression plot for charges with respect to bmi\n",
    "sns.regplot(x=\"bmi\",y=\"charges\",data = df,line_kws={\"color\":\"red\"})\n",
    "plt.ylim(0,)"
   ]
  },
  {
   "cell_type": "code",
   "execution_count": 59,
   "id": "855af433-9735-4a5d-a190-6117583bf2ee",
   "metadata": {},
   "outputs": [
    {
     "data": {
      "text/plain": [
       "<Axes: xlabel='smoker', ylabel='charges'>"
      ]
     },
     "execution_count": 59,
     "metadata": {},
     "output_type": "execute_result"
    },
    {
     "data": {
      "image/png": "[encoded data removed]",
      "text/plain": [
       "<Figure size 640x480 with 1 Axes>"
      ]
     },
     "metadata": {},
     "output_type": "display_data"
    }
   ],
   "source": [
    "#implemention of box plot for charges with respect to smoker\n",
    "sns.boxplot(x=\"smoker\",y=\"charges\",data = df)"
   ]
  },
  {
   "cell_type": "code",
   "execution_count": 60,
   "id": "842465c0-5947-411b-831d-bdf2cfa133d3",
   "metadata": {},
   "outputs": [
    {
     "data": {
      "text/html": [
       "<div>\n",
       "<style scoped>\n",
       "    .dataframe tbody tr th:only-of-type {\n",
       "        vertical-align: middle;\n",
       "    }\n",
       "\n",
       "    .dataframe tbody tr th {\n",
       "        vertical-align: top;\n",
       "    }\n",
       "\n",
       "    .dataframe thead th {\n",
       "        text-align: right;\n",
       "    }\n",
       "</style>\n",
       "<table border=\"1\" class=\"dataframe\">\n",
       "  <thead>\n",
       "    <tr style=\"text-align: right;\">\n",
       "      <th></th>\n",
       "      <th>age</th>\n",
       "      <th>gender</th>\n",
       "      <th>bmi</th>\n",
       "      <th>no_of_children</th>\n",
       "      <th>smoker</th>\n",
       "      <th>region</th>\n",
       "      <th>charges</th>\n",
       "    </tr>\n",
       "  </thead>\n",
       "  <tbody>\n",
       "    <tr>\n",
       "      <th>age</th>\n",
       "      <td>1.000000</td>\n",
       "      <td>-0.026584</td>\n",
       "      <td>0.112864</td>\n",
       "      <td>0.037126</td>\n",
       "      <td>-0.022645</td>\n",
       "      <td>-0.006969</td>\n",
       "      <td>0.298892</td>\n",
       "    </tr>\n",
       "    <tr>\n",
       "      <th>gender</th>\n",
       "      <td>-0.026584</td>\n",
       "      <td>1.000000</td>\n",
       "      <td>0.042771</td>\n",
       "      <td>0.015693</td>\n",
       "      <td>0.083056</td>\n",
       "      <td>0.022360</td>\n",
       "      <td>0.062959</td>\n",
       "    </tr>\n",
       "    <tr>\n",
       "      <th>bmi</th>\n",
       "      <td>0.112864</td>\n",
       "      <td>0.042771</td>\n",
       "      <td>1.000000</td>\n",
       "      <td>-0.001638</td>\n",
       "      <td>0.010854</td>\n",
       "      <td>0.271172</td>\n",
       "      <td>0.199899</td>\n",
       "    </tr>\n",
       "    <tr>\n",
       "      <th>no_of_children</th>\n",
       "      <td>0.037126</td>\n",
       "      <td>0.015693</td>\n",
       "      <td>-0.001638</td>\n",
       "      <td>1.000000</td>\n",
       "      <td>0.006917</td>\n",
       "      <td>-0.025594</td>\n",
       "      <td>0.066551</td>\n",
       "    </tr>\n",
       "    <tr>\n",
       "      <th>smoker</th>\n",
       "      <td>-0.022645</td>\n",
       "      <td>0.083056</td>\n",
       "      <td>0.010854</td>\n",
       "      <td>0.006917</td>\n",
       "      <td>1.000000</td>\n",
       "      <td>0.053621</td>\n",
       "      <td>0.789903</td>\n",
       "    </tr>\n",
       "    <tr>\n",
       "      <th>region</th>\n",
       "      <td>-0.006969</td>\n",
       "      <td>0.022360</td>\n",
       "      <td>0.271172</td>\n",
       "      <td>-0.025594</td>\n",
       "      <td>0.053621</td>\n",
       "      <td>1.000000</td>\n",
       "      <td>0.054018</td>\n",
       "    </tr>\n",
       "    <tr>\n",
       "      <th>charges</th>\n",
       "      <td>0.298892</td>\n",
       "      <td>0.062959</td>\n",
       "      <td>0.199899</td>\n",
       "      <td>0.066551</td>\n",
       "      <td>0.789903</td>\n",
       "      <td>0.054018</td>\n",
       "      <td>1.000000</td>\n",
       "    </tr>\n",
       "  </tbody>\n",
       "</table>\n",
       "</div>"
      ],
      "text/plain": [
       "                     age    gender       bmi  no_of_children    smoker  \\\n",
       "age             1.000000 -0.026584  0.112864        0.037126 -0.022645   \n",
       "gender         -0.026584  1.000000  0.042771        0.015693  0.083056   \n",
       "bmi             0.112864  0.042771  1.000000       -0.001638  0.010854   \n",
       "no_of_children  0.037126  0.015693 -0.001638        1.000000  0.006917   \n",
       "smoker         -0.022645  0.083056  0.010854        0.006917  1.000000   \n",
       "region         -0.006969  0.022360  0.271172       -0.025594  0.053621   \n",
       "charges         0.298892  0.062959  0.199899        0.066551  0.789903   \n",
       "\n",
       "                  region   charges  \n",
       "age            -0.006969  0.298892  \n",
       "gender          0.022360  0.062959  \n",
       "bmi             0.271172  0.199899  \n",
       "no_of_children -0.025594  0.066551  \n",
       "smoker          0.053621  0.789903  \n",
       "region          1.000000  0.054018  \n",
       "charges         0.054018  1.000000  "
      ]
     },
     "execution_count": 60,
     "metadata": {},
     "output_type": "execute_result"
    }
   ],
   "source": [
    "# correlation matrix of data set\n",
    "df.corr()"
   ]
  },
  {
   "cell_type": "markdown",
   "id": "41417dee-0db1-4952-b198-6c7fefbf35c0",
   "metadata": {},
   "source": [
    "MODEL DEVELOPMENT"
   ]
  },
  {
   "cell_type": "code",
   "execution_count": 66,
   "id": "c8ca69d6-2a96-466a-a466-cac1e72c8194",
   "metadata": {},
   "outputs": [
    {
     "data": {
      "text/plain": [
       "0.6227430402464125"
      ]
     },
     "execution_count": 66,
     "metadata": {},
     "output_type": "execute_result"
    }
   ],
   "source": [
    "#linear Regression model to used predict the charges on bases of smoker\n",
    "x= df[[\"smoker\"]];\n",
    "y = df[\"charges\"];\n",
    "lr = LinearRegression();\n",
    "lr.fit(x,y)\n",
    "lr.score(x,y)"
   ]
  },
  {
   "cell_type": "code",
   "execution_count": 68,
   "id": "33da48e2-f0bf-43d9-a4d1-7624d7e1df95",
   "metadata": {},
   "outputs": [
    {
     "data": {
      "text/plain": [
       "0.750587353164716"
      ]
     },
     "execution_count": 68,
     "metadata": {},
     "output_type": "execute_result"
    }
   ],
   "source": [
    "#now using all other attributes\n",
    "z=df[[\"age\", \"gender\", \"bmi\", \"no_of_children\", \"smoker\", \"region\"]];\n",
    "lr.fit(z,y);\n",
    "lr.score(z,y)"
   ]
  },
  {
   "cell_type": "code",
   "execution_count": 73,
   "id": "37c5d6c1-658d-4b17-9e43-618748ebb82e",
   "metadata": {},
   "outputs": [
    {
     "data": {
      "text/plain": [
       "0.8453719489805444"
      ]
     },
     "execution_count": 73,
     "metadata": {},
     "output_type": "execute_result"
    }
   ],
   "source": [
    "#training pipeline that uses StandardScaler(),\n",
    "#PolynomialFeatures() and LinearRegression() to create a model that can predict the charges value using \n",
    "#all the other attributes of the dataset. There will be even further improvement in the performance.\n",
    "input=[(\"scale\",StandardScaler()),(\"polynomial\",PolynomialFeatures(include_bias=True)),(\"model\",LinearRegression())];\n",
    "pipe = Pipeline(input);\n",
    "pipe.fit(z,y)\n",
    "ypipe=pipe.predict(z);\n",
    "r2_score(y,ypipe)\n"
   ]
  },
  {
   "cell_type": "markdown",
   "id": "e08441f2-7cf3-43b0-8132-af4bd393df85",
   "metadata": {},
   "source": [
    "MODEL REFINMENT"
   ]
  },
  {
   "cell_type": "code",
   "execution_count": 83,
   "id": "ad993991-b5e6-4f9d-806c-642b6f13f35b",
   "metadata": {},
   "outputs": [],
   "source": [
    "x_train,x_test,y_train,y_test = train_test_split(z,y,test_size=20,random_state=1)"
   ]
  },
  {
   "cell_type": "code",
   "execution_count": 84,
   "id": "a3fa9f41-b251-4ad1-a90e-ddb0ba324d0d",
   "metadata": {},
   "outputs": [
    {
     "data": {
      "text/plain": [
       "0.837405066008551"
      ]
     },
     "execution_count": 84,
     "metadata": {},
     "output_type": "execute_result"
    }
   ],
   "source": [
    "rm = Ridge(alpha=0.1)\n",
    "rm.fit(x_train,y_train)\n",
    "yhat=rm.predict(x_test)\n",
    "r2_score(y_test,yhat)"
   ]
  },
  {
   "cell_type": "code",
   "execution_count": 85,
   "id": "88dc1e51-d9a0-4a67-bfd3-493a5ef73489",
   "metadata": {},
   "outputs": [
    {
     "data": {
      "text/plain": [
       "0.7481189063323497"
      ]
     },
     "execution_count": 85,
     "metadata": {},
     "output_type": "execute_result"
    }
   ],
   "source": [
    "#Applying polynomial transformation to the training parameters with degree=2.\n",
    "#Using this transformed feature set to fit the same regression model, as above, using the training subset\n",
    "pr = PolynomialFeatures(degree=2)\n",
    "x_train_pr = pr.fit_transform(x_train)\n",
    "x_test_pr = pr.transform(x_test)\n",
    "rm.fit(x_train_pr,y_train)\n",
    "y_hat= rm.predict(x_test_pr)\n",
    "r2_score(y_test,y_hat)"
   ]
  },
  {
   "cell_type": "code",
   "execution_count": null,
   "id": "00687641-00cf-44ea-a12d-db8ce68522ac",
   "metadata": {},
   "outputs": [],
   "source": []
  }
 ],
 "metadata": {
  "kernelspec": {
   "display_name": "Python 3 (ipykernel)",
   "language": "python",
   "name": "python3"
  },
  "language_info": {
   "codemirror_mode": {
    "name": "ipython",
    "version": 3
   },
   "file_extension": ".py",
   "mimetype": "text/x-python",
   "name": "python",
   "nbconvert_exporter": "python",
   "pygments_lexer": "ipython3",
   "version": "3.13.2"
  }
 },
 "nbformat": 4,
 "nbformat_minor": 5
}
